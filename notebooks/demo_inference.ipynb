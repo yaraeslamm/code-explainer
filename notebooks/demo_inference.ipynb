{
  "cells": [
    {
      "cell_type": "code",
      "execution_count": null,
      "id": "b70a176e",
      "metadata": {
        "vscode": {
          "languageId": "plaintext"
        },
        "id": "b70a176e"
      },
      "outputs": [],
      "source": [
        "import numpy as np"
      ]
    }
  ],
  "metadata": {
    "language_info": {
      "name": "python"
    },
    "colab": {
      "provenance": []
    },
    "kernelspec": {
      "name": "python3",
      "display_name": "Python 3"
    }
  },
  "nbformat": 4,
  "nbformat_minor": 5
}